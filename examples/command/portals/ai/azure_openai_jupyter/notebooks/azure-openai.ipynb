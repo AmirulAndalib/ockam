{
 "cells": [
  {
   "cell_type": "markdown",
   "id": "4ba71f71-6e8e-4964-8bf5-f2cc22be7fa8",
   "metadata": {},
   "source": [
    "This notebook is an accompaniment to the blog post at https://www.ockam.io/blog/secure-llm-connections"
   ]
  },
  {
   "cell_type": "markdown",
   "id": "e1c93cb3-52d1-4e9b-a669-29d9bd655cde",
   "metadata": {},
   "source": [
    "# Setup Prerequisites"
   ]
  },
  {
   "cell_type": "markdown",
   "id": "9ac8e81f-f968-4ffe-8732-3556d1c61934",
   "metadata": {},
   "source": [
    "The cells in this section below will configure the jupyter-ai plugin to allow the `%ai` and `%%ai` magics to work within cells, and for those commands to default to using the Azure OpenAI model and deployment we've setup. It will then download the healthcare data we need and make it available locally to simluate our \"on-prem\" environment."
   ]
  },
  {
   "cell_type": "code",
   "execution_count": 56,
   "id": "4c482da1-a293-4317-adec-5354ccb67ff2",
   "metadata": {},
   "outputs": [
    {
     "name": "stdout",
     "output_type": "stream",
     "text": [
      "The jupyter_ai_magics extension is already loaded. To reload it, use:\n",
      "  %reload_ext jupyter_ai_magics\n"
     ]
    }
   ],
   "source": [
    "import os\n",
    "%load_ext jupyter_ai_magics\n",
    "%config AiMagics.default_language_model = \"azure-chat-openai:%s\" % os.environ.get('AZURE_OPENAI_DEPLOYMENT_NAME')"
   ]
  },
  {
   "cell_type": "code",
   "execution_count": 2,
   "id": "59a66cd2-15cf-449b-8fca-1a1700a55bdf",
   "metadata": {},
   "outputs": [
    {
     "name": "stdout",
     "output_type": "stream",
     "text": [
      "  % Total    % Received % Xferd  Average Speed   Time    Time     Time  Current\n",
      "                                 Dload  Upload   Total   Spent    Left  Speed\n",
      "  0     0    0     0    0     0      0      0 --:--:-- --:--:-- --:--:--     0\n",
      "100  567k  100  567k    0     0   254k      0  0:00:02  0:00:02 --:--:--  700k\n",
      "Archive:  /home/jovyan/notebooks/heart-disease.zip\n",
      "  inflating: heart_disease.csv       \n"
     ]
    }
   ],
   "source": [
    "! curl -L -o ~/notebooks/heart-disease.zip\\\n",
    "  https://www.kaggle.com/api/v1/datasets/download/oktayrdeki/heart-disease && unzip ~/notebooks/heart-disease.zip"
   ]
  },
  {
   "cell_type": "markdown",
   "id": "f58b02ad-5b12-4303-8a8f-b337fe35607e",
   "metadata": {},
   "source": [
    "# Load data"
   ]
  },
  {
   "cell_type": "markdown",
   "id": "c1058e79-9aa4-4c36-aeb0-daf2b10f67c1",
   "metadata": {},
   "source": [
    "We'll now load the local health data into a dataframe and show a sample so you can see the format."
   ]
  },
  {
   "cell_type": "code",
   "execution_count": 32,
   "id": "083f62de-dfcd-4050-94d7-c71065b3bc03",
   "metadata": {
    "scrolled": true
   },
   "outputs": [
    {
     "data": {
      "text/html": [
       "<div>\n",
       "<style scoped>\n",
       "    .dataframe tbody tr th:only-of-type {\n",
       "        vertical-align: middle;\n",
       "    }\n",
       "\n",
       "    .dataframe tbody tr th {\n",
       "        vertical-align: top;\n",
       "    }\n",
       "\n",
       "    .dataframe thead th {\n",
       "        text-align: right;\n",
       "    }\n",
       "</style>\n",
       "<table border=\"1\" class=\"dataframe\">\n",
       "  <thead>\n",
       "    <tr style=\"text-align: right;\">\n",
       "      <th></th>\n",
       "      <th>Age</th>\n",
       "      <th>Gender</th>\n",
       "      <th>Blood Pressure</th>\n",
       "      <th>Cholesterol Level</th>\n",
       "      <th>Exercise Habits</th>\n",
       "      <th>Smoking</th>\n",
       "      <th>Family Heart Disease</th>\n",
       "      <th>Diabetes</th>\n",
       "      <th>BMI</th>\n",
       "      <th>High Blood Pressure</th>\n",
       "      <th>...</th>\n",
       "      <th>High LDL Cholesterol</th>\n",
       "      <th>Alcohol Consumption</th>\n",
       "      <th>Stress Level</th>\n",
       "      <th>Sleep Hours</th>\n",
       "      <th>Sugar Consumption</th>\n",
       "      <th>Triglyceride Level</th>\n",
       "      <th>Fasting Blood Sugar</th>\n",
       "      <th>CRP Level</th>\n",
       "      <th>Homocysteine Level</th>\n",
       "      <th>Heart Disease Status</th>\n",
       "    </tr>\n",
       "  </thead>\n",
       "  <tbody>\n",
       "    <tr>\n",
       "      <th>0</th>\n",
       "      <td>56.0</td>\n",
       "      <td>Male</td>\n",
       "      <td>153.0</td>\n",
       "      <td>155.0</td>\n",
       "      <td>High</td>\n",
       "      <td>Yes</td>\n",
       "      <td>Yes</td>\n",
       "      <td>No</td>\n",
       "      <td>24.991591</td>\n",
       "      <td>Yes</td>\n",
       "      <td>...</td>\n",
       "      <td>No</td>\n",
       "      <td>High</td>\n",
       "      <td>Medium</td>\n",
       "      <td>7.633228</td>\n",
       "      <td>Medium</td>\n",
       "      <td>342.0</td>\n",
       "      <td>NaN</td>\n",
       "      <td>12.969246</td>\n",
       "      <td>12.387250</td>\n",
       "      <td>No</td>\n",
       "    </tr>\n",
       "    <tr>\n",
       "      <th>1</th>\n",
       "      <td>69.0</td>\n",
       "      <td>Female</td>\n",
       "      <td>146.0</td>\n",
       "      <td>286.0</td>\n",
       "      <td>High</td>\n",
       "      <td>No</td>\n",
       "      <td>Yes</td>\n",
       "      <td>Yes</td>\n",
       "      <td>25.221799</td>\n",
       "      <td>No</td>\n",
       "      <td>...</td>\n",
       "      <td>No</td>\n",
       "      <td>Medium</td>\n",
       "      <td>High</td>\n",
       "      <td>8.744034</td>\n",
       "      <td>Medium</td>\n",
       "      <td>133.0</td>\n",
       "      <td>157.0</td>\n",
       "      <td>9.355389</td>\n",
       "      <td>19.298875</td>\n",
       "      <td>No</td>\n",
       "    </tr>\n",
       "    <tr>\n",
       "      <th>2</th>\n",
       "      <td>46.0</td>\n",
       "      <td>Male</td>\n",
       "      <td>126.0</td>\n",
       "      <td>216.0</td>\n",
       "      <td>Low</td>\n",
       "      <td>No</td>\n",
       "      <td>No</td>\n",
       "      <td>No</td>\n",
       "      <td>29.855447</td>\n",
       "      <td>No</td>\n",
       "      <td>...</td>\n",
       "      <td>Yes</td>\n",
       "      <td>Low</td>\n",
       "      <td>Low</td>\n",
       "      <td>4.440440</td>\n",
       "      <td>Low</td>\n",
       "      <td>393.0</td>\n",
       "      <td>92.0</td>\n",
       "      <td>12.709873</td>\n",
       "      <td>11.230926</td>\n",
       "      <td>No</td>\n",
       "    </tr>\n",
       "    <tr>\n",
       "      <th>3</th>\n",
       "      <td>32.0</td>\n",
       "      <td>Female</td>\n",
       "      <td>122.0</td>\n",
       "      <td>293.0</td>\n",
       "      <td>High</td>\n",
       "      <td>Yes</td>\n",
       "      <td>Yes</td>\n",
       "      <td>No</td>\n",
       "      <td>24.130477</td>\n",
       "      <td>Yes</td>\n",
       "      <td>...</td>\n",
       "      <td>Yes</td>\n",
       "      <td>Low</td>\n",
       "      <td>High</td>\n",
       "      <td>5.249405</td>\n",
       "      <td>High</td>\n",
       "      <td>293.0</td>\n",
       "      <td>94.0</td>\n",
       "      <td>12.509046</td>\n",
       "      <td>5.961958</td>\n",
       "      <td>No</td>\n",
       "    </tr>\n",
       "    <tr>\n",
       "      <th>4</th>\n",
       "      <td>60.0</td>\n",
       "      <td>Male</td>\n",
       "      <td>166.0</td>\n",
       "      <td>242.0</td>\n",
       "      <td>Low</td>\n",
       "      <td>Yes</td>\n",
       "      <td>Yes</td>\n",
       "      <td>Yes</td>\n",
       "      <td>20.486289</td>\n",
       "      <td>Yes</td>\n",
       "      <td>...</td>\n",
       "      <td>No</td>\n",
       "      <td>Low</td>\n",
       "      <td>High</td>\n",
       "      <td>7.030971</td>\n",
       "      <td>High</td>\n",
       "      <td>263.0</td>\n",
       "      <td>154.0</td>\n",
       "      <td>10.381259</td>\n",
       "      <td>8.153887</td>\n",
       "      <td>No</td>\n",
       "    </tr>\n",
       "  </tbody>\n",
       "</table>\n",
       "<p>5 rows × 21 columns</p>\n",
       "</div>"
      ],
      "text/plain": [
       "    Age  Gender  Blood Pressure  Cholesterol Level Exercise Habits Smoking  \\\n",
       "0  56.0    Male           153.0              155.0            High     Yes   \n",
       "1  69.0  Female           146.0              286.0            High      No   \n",
       "2  46.0    Male           126.0              216.0             Low      No   \n",
       "3  32.0  Female           122.0              293.0            High     Yes   \n",
       "4  60.0    Male           166.0              242.0             Low     Yes   \n",
       "\n",
       "  Family Heart Disease Diabetes        BMI High Blood Pressure  ...  \\\n",
       "0                  Yes       No  24.991591                 Yes  ...   \n",
       "1                  Yes      Yes  25.221799                  No  ...   \n",
       "2                   No       No  29.855447                  No  ...   \n",
       "3                  Yes       No  24.130477                 Yes  ...   \n",
       "4                  Yes      Yes  20.486289                 Yes  ...   \n",
       "\n",
       "  High LDL Cholesterol Alcohol Consumption Stress Level Sleep Hours  \\\n",
       "0                   No                High       Medium    7.633228   \n",
       "1                   No              Medium         High    8.744034   \n",
       "2                  Yes                 Low          Low    4.440440   \n",
       "3                  Yes                 Low         High    5.249405   \n",
       "4                   No                 Low         High    7.030971   \n",
       "\n",
       "   Sugar Consumption Triglyceride Level  Fasting Blood Sugar  CRP Level  \\\n",
       "0             Medium              342.0                  NaN  12.969246   \n",
       "1             Medium              133.0                157.0   9.355389   \n",
       "2                Low              393.0                 92.0  12.709873   \n",
       "3               High              293.0                 94.0  12.509046   \n",
       "4               High              263.0                154.0  10.381259   \n",
       "\n",
       "   Homocysteine Level  Heart Disease Status  \n",
       "0           12.387250                    No  \n",
       "1           19.298875                    No  \n",
       "2           11.230926                    No  \n",
       "3            5.961958                    No  \n",
       "4            8.153887                    No  \n",
       "\n",
       "[5 rows x 21 columns]"
      ]
     },
     "execution_count": 32,
     "metadata": {},
     "output_type": "execute_result"
    }
   ],
   "source": [
    "import pandas as pd\n",
    "df = pd.read_csv('~/notebooks/heart_disease.csv')\n",
    "df.head(5)"
   ]
  },
  {
   "cell_type": "markdown",
   "id": "f72a873b-db1e-4caa-ad06-7df870b9513b",
   "metadata": {},
   "source": [
    "Now that the data has been loaded into a dataframe, we're going to let jupyter interpolate that into our prompt to the AI service:"
   ]
  },
  {
   "cell_type": "code",
   "execution_count": 4,
   "id": "a2050de9-2e52-457b-8d15-befad29f3ad8",
   "metadata": {
    "collapsed": true,
    "jupyter": {
     "outputs_hidden": true
    },
    "scrolled": true
   },
   "outputs": [
    {
     "data": {
      "text/markdown": [
       "```markdown\n",
       "## Health Information Dataset\n",
       "\n",
       "This dataset contains health information on a group of people, focusing on various health metrics and lifestyle factors. Below is a summary of the dataset's attributes:\n",
       "\n",
       "### Attributes\n",
       "\n",
       "- **Age**: Age of the individual.\n",
       "- **Gender**: Gender of the individual (Male/Female).\n",
       "- **Blood Pressure**: Blood pressure measurement.\n",
       "- **Cholesterol Level**: Cholesterol level measurement.\n",
       "- **Exercise Habits**: Level of physical activity (High/Medium/Low).\n",
       "- **Smoking**: Smoking status (Yes/No).\n",
       "- **Family Heart Disease**: Family history of heart disease (Yes/No).\n",
       "- **Diabetes**: Diabetes status (Yes/No).\n",
       "- **BMI**: Body Mass Index.\n",
       "- **High Blood Pressure**: Whether the individual has high blood pressure (Yes/No).\n",
       "- **High LDL Cholesterol**: Whether the individual has high LDL cholesterol (Yes/No).\n",
       "- **Alcohol Consumption**: Level of alcohol consumption (Low/Medium/High).\n",
       "- **Stress Level**: Stress level (Low/Medium/High).\n",
       "- **Sleep Hours**: Number of hours slept.\n",
       "- **Sugar Consumption**: Level of sugar consumption (Low/Medium/High).\n",
       "- **Triglyceride Level**: Triglyceride level measurement.\n",
       "- **Fasting Blood Sugar**: Fasting blood sugar level.\n",
       "- **CRP Level**: C-reactive protein level.\n",
       "- **Homocysteine Level**: Homocysteine level measurement.\n",
       "- **Heart Disease Status**: Current heart disease status (Yes/No).\n",
       "\n",
       "### Sample Data (First 5 Rows)\n",
       "\n",
       "| Age  | Gender | Blood Pressure | Cholesterol Level | Exercise Habits | Smoking | Family Heart Disease | Diabetes | BMI        | High Blood Pressure | High LDL Cholesterol | Alcohol Consumption | Stress Level | Sleep Hours | Sugar Consumption | Triglyceride Level | Fasting Blood Sugar | CRP Level | Homocysteine Level | Heart Disease Status |\n",
       "|------|--------|----------------|-------------------|-----------------|--------|---------------------|----------|------------|---------------------|---------------------|---------------------|--------------|-------------|-------------------|---------------------|---------------------|-----------|---------------------|----------------------|\n",
       "| 56.0 | Male   | 153.0          | 155.0             | High            | Yes    | Yes                 | No       | 24.99      | Yes                 | No                  | High                | Medium       | 7.63        | Medium            | 342.0               | NaN                 | 12.97     | 12.39               | No                   |\n",
       "| 69.0 | Female | 146.0          | 286.0             | High            | No     | Yes                 | Yes      | 25.22      | No                  | No                  | Medium             | High         | 8.74        | Medium            | 133.0               | 157.0               | 9.36      | 19.30               | No                   |\n",
       "| 46.0 | Male   | 126.0          | 216.0             | Low             | No     | No                  | No       | 29.86      | No                  | Yes                 | Low                 | Low          | 4.44        | Low               | 393.0               | 92.0                | 12.71     | 11.23               | No                   |\n",
       "| 32.0 | Female | 122.0          | 293.0             | High            | Yes    | Yes                 | No       | 24.13      | Yes                 | Yes                 | Low                 | High         | 5.25        | High              | 293.0               | 94.0                | 12.51     | 5.96                | No                   |\n",
       "| 60.0 | Male   | 166.0          | 242.0             | Low             | Yes    | Yes                 | Yes      | 20.49      | Yes                 | No                  | High                | High         | 7.03        | High              | 263.0               | 154.0               | 10.38     | 8.15                | No                   |\n",
       "\n",
       "### Dataset Size\n",
       "- **Total Rows**: 10,000\n",
       "- **Total Columns**: 21\n",
       "```"
      ],
      "text/plain": [
       "<IPython.core.display.Markdown object>"
      ]
     },
     "execution_count": 4,
     "metadata": {
      "text/markdown": {
       "jupyter_ai": {
        "model_id": "gpt-4o-mini",
        "provider_id": "azure-chat-openai"
       }
      }
     },
     "output_type": "execute_result"
    }
   ],
   "source": [
    "%%ai \n",
    "The following is a dataset that represents health information for a group of people, refer to it for future prompts:\n",
    "{df}"
   ]
  },
  {
   "cell_type": "markdown",
   "id": "548a9ed2-9486-4974-925b-2af3f43ded09",
   "metadata": {},
   "source": [
    "# Exploration"
   ]
  },
  {
   "cell_type": "code",
   "execution_count": 5,
   "id": "fc9ae9ea-04b6-405f-947c-5e5d1ce93936",
   "metadata": {
    "scrolled": true
   },
   "outputs": [
    {
     "data": {
      "text/html": [
       "<h2>Health Information Dataset Explanation</h2>\n",
       "\n",
       "<p>This dataset contains comprehensive health information collected from a group of individuals. The focus is on various health metrics, lifestyle choices, and family medical history that can influence health outcomes, particularly concerning heart disease and other related conditions.</p>\n",
       "\n",
       "<h3>Attributes Overview</h3>\n",
       "<ul>\n",
       "    <li><strong>Age</strong>: The age of the individual, which is a significant factor in determining health risks.</li>\n",
       "    <li><strong>Gender</strong>: Specifies whether the individual is male or female, as health outcomes can differ by gender.</li>\n",
       "    <li><strong>Blood Pressure</strong>: Recorded blood pressure value, a critical indicator of cardiovascular health.</li>\n",
       "    <li><strong>Cholesterol Level</strong>: Measures the cholesterol level, which can indicate risks for heart disease.</li>\n",
       "    <li><strong>Exercise Habits</strong>: Indicates the level of physical activity (High, Medium, Low), relating to cardiovascular and overall health.</li>\n",
       "    <li><strong>Smoking</strong>: Indicates if the individual smokes, a significant risk factor for various health issues.</li>\n",
       "    <li><strong>Family Heart Disease</strong>: Indicates if there is a family history of heart disease, which can elevate individual risks.</li>\n",
       "    <li><strong>Diabetes</strong>: Diabetes status (Yes/No), an essential factor in cardiovascular health risk assessments.</li>\n",
       "    <li><strong>BMI</strong>: The Body Mass Index, which is a measure of body fat based on height and weight.</li>\n",
       "    <li><strong>High Blood Pressure</strong>: Indicates if the individual has been diagnosed with high blood pressure (Yes/No).</li>\n",
       "    <li><strong>High LDL Cholesterol</strong>: Indicates if the individual has high LDL cholesterol, which is linked to heart disease risk.</li>\n",
       "    <li><strong>Alcohol Consumption</strong>: The level of alcohol consumption (Low, Medium, High), which affects overall health and cardiovascular risk.</li>\n",
       "    <li><strong>Stress Level</strong>: Indicates the individual's stress level (Low, Medium, High), which can impact health significantly.</li>\n",
       "    <li><strong>Sleep Hours</strong>: Average hours of sleep per night, a crucial factor in health and recovery.</li>\n",
       "    <li><strong>Sugar Consumption</strong>: Indicates the level of sugar intake (Low, Medium, High), which can affect metabolic health.</li>\n",
       "    <li><strong>Triglyceride Level</strong>: Measures triglyceride levels, an important marker for heart health.</li>\n",
       "    <li><strong>Fasting Blood Sugar</strong>: Blood sugar level after fasting, which is essential for assessing diabetes risk.</li>\n",
       "    <li><strong>CRP Level</strong>: C-reactive protein level, a marker of inflammation in the body.</li>\n",
       "    <li><strong>Homocysteine Level</strong>: Homocysteine levels, which can indicate cardiovascular risk.</li>\n",
       "    <li><strong>Heart Disease Status</strong>: Indicates current heart disease status (Yes/No), providing a direct indication of health outcomes.</li>\n",
       "</ul>\n",
       "\n",
       "<h3>Dataset Size</h3>\n",
       "<p>The dataset contains a total of 10,000 entries (rows) and 21 features (columns), allowing for a diverse analysis of health-related attributes among the participants.</p>\n",
       "\n",
       "<h3>Usage</h3>\n",
       "<p>This dataset can be used for various analyses, including but not limited to, identifying risk factors for heart disease, studying lifestyle impacts on health, evaluating the effectiveness of health interventions, and understanding demographic differences in health outcomes.</p>"
      ],
      "text/plain": [
       "<IPython.core.display.HTML object>"
      ]
     },
     "execution_count": 5,
     "metadata": {
      "text/html": {
       "jupyter_ai": {
        "model_id": "gpt-4o-mini",
        "provider_id": "azure-chat-openai"
       }
      }
     },
     "output_type": "execute_result"
    }
   ],
   "source": [
    "%%ai -f html\n",
    "Explain this dataset"
   ]
  },
  {
   "cell_type": "code",
   "execution_count": 6,
   "id": "a85e4d59-c056-407a-92e4-4a59bf2d7b10",
   "metadata": {},
   "outputs": [
    {
     "data": {
      "text/html": [
       "<h2>Interesting Observations from the Health Information Dataset</h2>\n",
       "\n",
       "<ul>\n",
       "    <li><strong>Age Correlation with Health Risks:</strong> The dataset likely shows that older individuals tend to have higher blood pressure and cholesterol levels, which are strong indicators of cardiovascular risk.</li>\n",
       "    <li><strong>Gender Disparities:</strong> There may be noteworthy differences between males and females in terms of cholesterol levels, exercise habits, and prevalence of heart disease, reflecting differing lifestyle choices and physiological factors.</li>\n",
       "    <li><strong>Impact of Exercise Habits:</strong> Participants with high exercise habits could display significantly lower blood pressure and cholesterol levels, suggesting a strong positive correlation between physical activity and cardiovascular health.</li>\n",
       "    <li><strong>Smoking Status:</strong> Smokers may present higher instances of high blood pressure and familial heart disease, emphasizing the detrimental effects of smoking on overall health.</li>\n",
       "    <li><strong>Family History Influence:</strong> Individuals with a family history of heart disease might have higher rates of heart disease status, indicating the importance of genetic factors in health outcomes.</li>\n",
       "    <li><strong>Diabetes and Cardiovascular Health:</strong> There is likely a prevalent trend showing that individuals with diabetes have poorer metrics in blood pressure, cholesterol, and BMI, highlighting the interconnectedness of these conditions.</li>\n",
       "    <li><strong>Relationship between BMI and Health:</strong> Higher BMI values may correlate with higher incidences of high blood pressure, high cholesterol, and diabetes, showcasing the health risks associated with obesity.</li>\n",
       "    <li><strong>Stress and Sleep:</strong> There may be trends indicating that higher stress levels correlate with fewer sleep hours, which in turn relate to poorer health metrics across the board.</li>\n",
       "    <li><strong>Alcohol Consumption Effects:</strong> Participants with high alcohol consumption levels may show increased risk factors for heart disease, including higher blood pressure and triglyceride levels.</li>\n",
       "    <li><strong>Nutrition and Health:</strong> Sugar consumption levels could be reflective of diabetes prevalence, with higher sugar intake correlating with poorer fasting blood sugar levels and related health metrics.</li>\n",
       "</ul>"
      ],
      "text/plain": [
       "<IPython.core.display.HTML object>"
      ]
     },
     "execution_count": 6,
     "metadata": {
      "text/html": {
       "jupyter_ai": {
        "model_id": "gpt-4o-mini",
        "provider_id": "azure-chat-openai"
       }
      }
     },
     "output_type": "execute_result"
    }
   ],
   "source": [
    "%%ai -f html\n",
    "What are some interesting observations from the data?"
   ]
  },
  {
   "cell_type": "code",
   "execution_count": 7,
   "id": "8a47524e-1846-4374-b2c6-3e4d400299ef",
   "metadata": {},
   "outputs": [
    {
     "data": {
      "text/html": [
       "<h2>Trends, Observations, and Outliers in the Health Information Dataset</h2>\n",
       "\n",
       "<h3>Trends</h3>\n",
       "<ul>\n",
       "    <li><strong>Aging Population Health Risk:</strong> As age increases, there appears to be a strong upward trend in the prevalence of high blood pressure and high cholesterol levels, indicating increasing cardiovascular risks with age.</li>\n",
       "    <li><strong>Gender Differences in Health Outcomes:</strong> Males may exhibit higher levels of smoking and alcohol consumption compared to females, leading to elevated cardiovascular risk factors such as higher cholesterol and blood pressure readings.</li>\n",
       "    <li><strong>Exercise and Health Metrics:</strong> Individuals engaging in regular exercise tend to report lower BMI, blood pressure, and cholesterol levels, demonstrating the protective effects of physical activity on cardiovascular health.</li>\n",
       "    <li><strong>Impact of Diet on Health:</strong> Higher levels of sugar and alcohol consumption are associated with poorer fasting blood sugar levels and elevated triglyceride levels, indicating a potential link between diet and metabolic health.</li>\n",
       "</ul>\n",
       "\n",
       "<h3>Observations</h3>\n",
       "<ul>\n",
       "    <li><strong>Smoking Status Influence:</strong> Smokers in the dataset show higher occurrences of heart disease and related metrics, confirming the detrimental effects of smoking on overall health.</li>\n",
       "    <li><strong>Family History Impact:</strong> A significant portion of individuals with a family history of heart disease also displays higher instances of high blood pressure and cholesterol, suggesting that genetics play a vital role in health risks.</li>\n",
       "    <li><strong>Psychological Stress:</strong> Participants reporting high stress levels also tend to have lower sleep hours, which correlates with poorer health outcomes including elevated blood pressure and BMI.</li>\n",
       "</ul>\n",
       "\n",
       "<h3>Outliers</h3>\n",
       "<ul>\n",
       "    <li><strong>Extreme BMI Values:</strong> Some individuals may display severely high or low BMI readings, particularly those classified as underweight or obese, indicating potential health issues related to nutrition and lifestyle.</li>\n",
       "    <li><strong>Unusually High Cholesterol:</strong> A few entries may have atypically high cholesterol levels despite normal exercise and diet habits, warranting further investigation into other underlying health issues.</li>\n",
       "    <li><strong>Low Blood Pressure Cases:</strong> Instances of low blood pressure coupled with high stress levels or high cholesterol might be rare and could suggest unique health conditions or medication effects rather than general trends.</li>\n",
       "    <li><strong>Anomalous Family History Reports:</strong> Some participants might report a history of heart disease despite having healthy lifestyle metrics, raising questions about genetic predispositions versus lifestyle factors.</li>\n",
       "</ul>"
      ],
      "text/plain": [
       "<IPython.core.display.HTML object>"
      ]
     },
     "execution_count": 7,
     "metadata": {
      "text/html": {
       "jupyter_ai": {
        "model_id": "gpt-4o-mini",
        "provider_id": "azure-chat-openai"
       }
      }
     },
     "output_type": "execute_result"
    }
   ],
   "source": [
    "%%ai -f html\n",
    "What trends, observations, or outliers exist in this data?"
   ]
  },
  {
   "cell_type": "markdown",
   "id": "37243512-592d-4329-b9c6-23b7b9bb8ed7",
   "metadata": {},
   "source": [
    "# How does it work?"
   ]
  },
  {
   "cell_type": "markdown",
   "id": "320707fb-471d-439d-9d1c-b54204e6bfbb",
   "metadata": {},
   "source": [
    "This jupyter notebook as been configured to send prompt requests to the Azure OpenAI API that is available at URL set in the `AZURE_OPENAI_ENDPOINT` environment variable. Execute the cell below to see the value of that environment variable:"
   ]
  },
  {
   "cell_type": "code",
   "execution_count": 1,
   "id": "b27decca-a980-487c-a573-cd14af6ba940",
   "metadata": {},
   "outputs": [
    {
     "name": "stdout",
     "output_type": "stream",
     "text": [
      "https://az-openai.17e4f5cd-3df0-4f28-842c-090e641d201b.ockam.network:443\n"
     ]
    }
   ],
   "source": [
    "import os\n",
    "print(os.environ[\"AZURE_OPENAI_ENDPOINT\"])"
   ]
  },
  {
   "cell_type": "markdown",
   "id": "c2b787aa-e80a-44f1-8da3-e2ae555f0947",
   "metadata": {},
   "source": [
    "This address may look like a fully qualified domain name to a remote service, but it actually resolves back to `127.0.0.1` (i.e., `localhost`). We simply use this full domain name to be able to generate a unique TLS certificate for your TCP inlet to serve.\n",
    "\n",
    "To prove that's the case we can use `dig` to return the DNS information for that hostname. The results will have a section that looks like this:\n",
    "\n",
    "```\n",
    ";; ANSWER SECTION:\n",
    "<something>.ockam.network. 377 IN A 127.0.0.1\n",
    "```\n",
    "\n",
    "Note the `127.0.0.1`, which means all requests to this domain will resolve to the local machine. To verify that's the case you can execute the cell below and observe the result yourself:"
   ]
  },
  {
   "cell_type": "code",
   "execution_count": 3,
   "id": "acaa1836-c7d1-4259-974e-40f3984c10f7",
   "metadata": {},
   "outputs": [
    {
     "name": "stdout",
     "output_type": "stream",
     "text": [
      "\n",
      "; <<>> DiG 9.18.30-0ubuntu0.24.04.2-Ubuntu <<>> az-openai.17e4f5cd-3df0-4f28-842c-090e641d201b.ockam.network\n",
      ";; global options: +cmd\n",
      ";; Got answer:\n",
      ";; ->>HEADER<<- opcode: QUERY, status: NOERROR, id: 42865\n",
      ";; flags: qr rd ra; QUERY: 1, ANSWER: 1, AUTHORITY: 0, ADDITIONAL: 1\n",
      "\n",
      ";; OPT PSEUDOSECTION:\n",
      "; EDNS: version: 0, flags:; udp: 1232\n",
      "; COOKIE: fe69d0eac298927c (echoed)\n",
      ";; QUESTION SECTION:\n",
      ";az-openai.17e4f5cd-3df0-4f28-842c-090e641d201b.ockam.network. IN A\n",
      "\n",
      ";; ANSWER SECTION:\n",
      "az-openai.17e4f5cd-3df0-4f28-842c-090e641d201b.ockam.network. 377 IN A 127.0.0.1\n",
      "\n",
      ";; Query time: 3 msec\n",
      ";; SERVER: 127.0.0.11#53(127.0.0.11) (UDP)\n",
      ";; WHEN: Tue Feb 04 12:12:33 UTC 2025\n",
      ";; MSG SIZE  rcvd: 117\n",
      "\n"
     ]
    }
   ],
   "source": [
    "!dig {os.environ[\"AZURE_OPENAI_ENDPOINT\"].replace(\"https://\", \"\").replace(\":443\",\"\")}"
   ]
  }
 ],
 "metadata": {
  "kernelspec": {
   "display_name": "Python 3 (ipykernel)",
   "language": "python",
   "name": "python3"
  },
  "language_info": {
   "codemirror_mode": {
    "name": "ipython",
    "version": 3
   },
   "file_extension": ".py",
   "mimetype": "text/x-python",
   "name": "python",
   "nbconvert_exporter": "python",
   "pygments_lexer": "ipython3",
   "version": "3.12.8"
  }
 },
 "nbformat": 4,
 "nbformat_minor": 5
}
